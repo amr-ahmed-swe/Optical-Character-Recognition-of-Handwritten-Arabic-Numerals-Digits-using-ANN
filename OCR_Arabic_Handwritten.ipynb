{
 "cells": [
  {
   "cell_type": "code",
   "execution_count": 22,
   "id": "monetary-giant",
   "metadata": {},
   "outputs": [],
   "source": [
    "from tensorflow.keras.models import Sequential\n",
    "from tensorflow.keras.layers import Dense\n",
    "from tensorflow.keras.utils import to_categorical\n",
    "import tensorflow as tf"
   ]
  },
  {
   "cell_type": "code",
   "execution_count": 23,
   "id": "fresh-western",
   "metadata": {},
   "outputs": [],
   "source": [
    "import numpy as np"
   ]
  },
  {
   "cell_type": "code",
   "execution_count": 24,
   "id": "olive-bidder",
   "metadata": {},
   "outputs": [],
   "source": [
    "import pandas as pd"
   ]
  },
  {
   "cell_type": "code",
   "execution_count": 25,
   "id": "considered-hunter",
   "metadata": {},
   "outputs": [],
   "source": [
    "import matplotlib.pyplot as plt"
   ]
  },
  {
   "cell_type": "code",
   "execution_count": 26,
   "id": "communist-freeware",
   "metadata": {},
   "outputs": [],
   "source": [
    "# read training data set \n",
    "train_image = pd.read_csv('/run/media/amr/DCC00F8CC00F6C58/Third Year/Ai/AI/csvTrainImages 60k x 784.csv')\n",
    "train_label =  pd.read_csv('/run/media/amr/DCC00F8CC00F6C58/Third Year/Ai/AI/csvTrainLabel 60k x 1.csv')"
   ]
  },
  {
   "cell_type": "code",
   "execution_count": 27,
   "id": "respective-commissioner",
   "metadata": {},
   "outputs": [],
   "source": [
    "# read testing data set\n",
    "test_image = pd.read_csv('/run/media/amr/DCC00F8CC00F6C58/Third Year/Ai/AI/csvTestImages 10k x 784.csv')\n",
    "test_label = pd.read_csv('/run/media/amr/DCC00F8CC00F6C58/Third Year/Ai/AI/csvTestLabel 10k x 1.csv')"
   ]
  },
  {
   "cell_type": "code",
   "execution_count": 28,
   "id": "spare-kitty",
   "metadata": {},
   "outputs": [],
   "source": [
    "# normalization\n",
    "fac = 0.99 / 255\n",
    "train_image = np.asfarray(train_image) * fac + 0.01\n",
    "test_image = np.asfarray(test_image) * fac + 0.01\n",
    "train_label = np.asfarray(train_label)\n",
    "test_label = np.asfarray(test_label)"
   ]
  },
  {
   "cell_type": "code",
   "execution_count": null,
   "id": "married-release",
   "metadata": {},
   "outputs": [],
   "source": []
  },
  {
   "cell_type": "code",
   "execution_count": 29,
   "id": "altered-planning",
   "metadata": {},
   "outputs": [],
   "source": [
    "# Build model\n",
    "# The function of relu is simply  y(x)=max(0,x).\n",
    "# The function of sigmoid is simply  y(x)=max(0,1).\n",
    "model = Sequential()\n",
    "model.add( Dense(256,activation='relu',input_dim=784))\n",
    "model.add( Dense(128,activation='relu'))\n",
    "model.add( Dense(10,activation='softmax'))"
   ]
  },
  {
   "cell_type": "code",
   "execution_count": 30,
   "id": "veterinary-basin",
   "metadata": {},
   "outputs": [],
   "source": [
    "model.compile(optimizer='adam',\n",
    "              loss=tf.keras.losses.SparseCategoricalCrossentropy(from_logits=True),\n",
    "              metrics=['accuracy'])"
   ]
  },
  {
   "cell_type": "code",
   "execution_count": 31,
   "id": "vulnerable-swedish",
   "metadata": {},
   "outputs": [
    {
     "name": "stdout",
     "output_type": "stream",
     "text": [
      "Epoch 1/5\n",
      "1875/1875 [==============================] - 17s 9ms/step - loss: 1.5090 - accuracy: 0.9575\n",
      "Epoch 2/5\n",
      "1875/1875 [==============================] - 17s 9ms/step - loss: 1.4830 - accuracy: 0.9789\n",
      "Epoch 3/5\n",
      "1875/1875 [==============================] - 17s 9ms/step - loss: 1.4792 - accuracy: 0.9824\n",
      "Epoch 4/5\n",
      "1875/1875 [==============================] - 22s 11ms/step - loss: 1.4762 - accuracy: 0.9853\n",
      "Epoch 5/5\n",
      "1875/1875 [==============================] - 20s 11ms/step - loss: 1.4745 - accuracy: 0.9868\n",
      "313/313 - 1s - loss: 1.4818 - accuracy: 0.9792\n",
      "\n",
      "Test accuracy: 0.9791979193687439\n"
     ]
    }
   ],
   "source": [
    "model.fit(train_image, train_label, epochs=5)\n",
    "test_loss, test_acc = model.evaluate(test_image,  test_label, verbose=2)\n",
    "\n",
    "print(f'\\nTest accuracy: {test_acc}')"
   ]
  },
  {
   "cell_type": "code",
   "execution_count": 35,
   "id": "amended-cargo",
   "metadata": {},
   "outputs": [
    {
     "name": "stdout",
     "output_type": "stream",
     "text": [
      "The Matrix of predictions: [[0.08533674 0.23196931 0.08533674 0.08533674 0.08533674 0.08533674\n",
      "  0.08533674 0.08533674 0.08533674 0.08533674]\n",
      " [0.08533674 0.08533674 0.23196921 0.08533674 0.08533678 0.08533674\n",
      "  0.08533674 0.08533674 0.08533674 0.08533674]\n",
      " [0.08533674 0.08533674 0.08533674 0.23196931 0.08533674 0.08533674\n",
      "  0.08533674 0.08533674 0.08533674 0.08533674]\n",
      " [0.08533674 0.08533674 0.08533674 0.08533674 0.23196931 0.08533674\n",
      "  0.08533674 0.08533674 0.08533674 0.08533674]\n",
      " [0.08533674 0.08533674 0.08533674 0.08533674 0.08533674 0.23196931\n",
      "  0.08533674 0.08533674 0.08533674 0.08533674]\n",
      " [0.08533674 0.08533674 0.08533674 0.08533674 0.08533674 0.08533674\n",
      "  0.23196931 0.08533674 0.08533674 0.08533674]\n",
      " [0.08533674 0.08533674 0.08533674 0.08533674 0.08533674 0.08533674\n",
      "  0.08533674 0.23196931 0.08533674 0.08533674]\n",
      " [0.08533674 0.08533674 0.08533674 0.08533674 0.08533674 0.08533674\n",
      "  0.08533674 0.08533674 0.23196931 0.08533674]\n",
      " [0.08533674 0.08533674 0.08533674 0.08533674 0.08533674 0.08533674\n",
      "  0.08533674 0.08533674 0.08533674 0.23196931]\n",
      " [0.23196931 0.08533674 0.08533674 0.08533674 0.08533674 0.08533674\n",
      "  0.08533674 0.08533674 0.08533674 0.08533674]\n",
      " [0.08534149 0.23189427 0.08534149 0.08534155 0.08534171 0.08534149\n",
      "  0.08537354 0.08534151 0.08534149 0.08534149]\n",
      " [0.08533674 0.08533674 0.23196931 0.08533674 0.08533674 0.08533674\n",
      "  0.08533674 0.08533674 0.08533674 0.08533674]\n",
      " [0.08533674 0.08533674 0.08533674 0.23196931 0.08533674 0.08533674\n",
      "  0.08533674 0.08533674 0.08533674 0.08533674]\n",
      " [0.08533674 0.08533674 0.08533674 0.08533674 0.23196931 0.08533674\n",
      "  0.08533674 0.08533674 0.08533674 0.08533674]\n",
      " [0.08533674 0.08533674 0.08533674 0.08533674 0.08533674 0.23196931\n",
      "  0.08533674 0.08533674 0.08533674 0.08533674]\n",
      " [0.08533674 0.08533674 0.08533674 0.08533674 0.08533674 0.08533674\n",
      "  0.23196931 0.08533674 0.08533674 0.08533674]\n",
      " [0.08533674 0.08533674 0.08533674 0.08533674 0.08533674 0.08533674\n",
      "  0.08533674 0.23196931 0.08533674 0.08533674]\n",
      " [0.08533674 0.08533674 0.08533674 0.08533674 0.08533674 0.08533674\n",
      "  0.08533674 0.08533674 0.23196931 0.08533674]\n",
      " [0.08533674 0.08533674 0.08533674 0.08533674 0.08533674 0.08533674\n",
      "  0.08533674 0.08533674 0.08533674 0.23196931]\n",
      " [0.23196931 0.08533674 0.08533674 0.08533674 0.08533674 0.08533674\n",
      "  0.08533674 0.08533674 0.08533674 0.08533674]]\n",
      "The decimal predictions: [1 2 3 4 5 6 7 8 9 0 1 2 3 4 5 6 7 8 9 0]\n"
     ]
    }
   ],
   "source": [
    "#Predictions\n",
    "probability_model = tf.keras.Sequential([model, \n",
    "                                         tf.keras.layers.Softmax()])\n",
    "\n",
    "predictions = probability_model.predict(test_image)\n",
    "\n",
    "print(f'The Matrix of predictions: {predictions[:20]}')\n",
    "\n",
    "print(f'The decimal predictions: {np.argmax(predictions[:20],axis=1)}')"
   ]
  },
  {
   "cell_type": "code",
   "execution_count": 33,
   "id": "legitimate-counter",
   "metadata": {},
   "outputs": [
    {
     "data": {
      "image/png": "[encoded data removed]",
      "text/plain": [
       "<Figure size 432x288 with 1 Axes>"
      ]
     },
     "metadata": {
      "needs_background": "light"
     },
     "output_type": "display_data"
    },
    {
     "data": {
      "image/png": "[encoded data removed]",
      "text/plain": [
       "<Figure size 432x288 with 1 Axes>"
      ]
     },
     "metadata": {
      "needs_background": "light"
     },
     "output_type": "display_data"
    },
    {
     "data": {
      "image/png": "[encoded data removed]",
      "text/plain": [
       "<Figure size 432x288 with 1 Axes>"
      ]
     },
     "metadata": {
      "needs_background": "light"
     },
     "output_type": "display_data"
    },
    {
     "data": {
      "image/png": "[encoded data removed]",
      "text/plain": [
       "<Figure size 432x288 with 1 Axes>"
      ]
     },
     "metadata": {
      "needs_background": "light"
     },
     "output_type": "display_data"
    }
   ],
   "source": [
    "for i in range(0,4):\n",
    "    first_image= test_image[i]\n",
    "    first_image= np.array(first_image,dtype='float')\n",
    "    pixels=first_image.reshape((28,28))\n",
    "    plt.imshow(pixels)\n",
    "    plt.show()"
   ]
  },
  {
   "cell_type": "code",
   "execution_count": null,
   "id": "focused-finish",
   "metadata": {},
   "outputs": [],
   "source": []
  }
 ],
 "metadata": {
  "kernelspec": {
   "display_name": "Python 3",
   "language": "python",
   "name": "python3"
  },
  "language_info": {
   "codemirror_mode": {
    "name": "ipython",
    "version": 3
   },
   "file_extension": ".py",
   "mimetype": "text/x-python",
   "name": "python",
   "nbconvert_exporter": "python",
   "pygments_lexer": "ipython3",
   "version": "3.8.5"
  }
 },
 "nbformat": 4,
 "nbformat_minor": 5
}
